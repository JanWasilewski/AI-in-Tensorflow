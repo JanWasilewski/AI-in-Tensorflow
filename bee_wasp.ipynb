{
 "cells": [
  {
   "cell_type": "code",
   "execution_count": 1,
   "metadata": {},
   "outputs": [],
   "source": [
    "import pandas as pd\n",
    "import tensorflow as tf\n",
    "import numpy as np\n",
    "import matplotlib.pyplot as plt"
   ]
  },
  {
   "cell_type": "code",
   "execution_count": 2,
   "metadata": {},
   "outputs": [
    {
     "name": "stdout",
     "output_type": "stream",
     "text": [
      "Found 6502 images belonging to 2 classes.\n",
      "Found 1624 images belonging to 2 classes.\n"
     ]
    }
   ],
   "source": [
    "im_gen = tf.keras.preprocessing.image.ImageDataGenerator(rescale = 1./255, validation_split = 0.2)\n",
    "train_data = im_gen.flow_from_directory('/home/jan/Documents/kaggle/kaggle_bee_vs_wasp/data',\n",
    "                                        classes = ['bee', 'wasp'],\n",
    "                                        subset = 'training',\n",
    "                                        class_mode = 'binary')\n",
    "val_data = im_gen.flow_from_directory('/home/jan/Documents/kaggle/kaggle_bee_vs_wasp/data',\n",
    "                                        classes = ['bee', 'wasp'],\n",
    "                                        subset = 'validation',\n",
    "                                        class_mode = 'binary')"
   ]
  },
  {
   "cell_type": "code",
   "execution_count": 5,
   "metadata": {},
   "outputs": [],
   "source": [
    "resnet_model =  tf.keras.applications.ResNet50(include_top = False, input_shape = (256, 256, 3))\n",
    "for layer in resnet_model.layers[:-4]:\n",
    "        layer.trainable = False\n",
    "\n",
    "vgg_model =  tf.keras.applications.VGG19(include_top = False, input_shape = (256, 256, 3))\n",
    "for layer in vgg_model.layers[:-4]:\n",
    "        layer.trainable = False\n",
    "# vgg_model.summary()\n",
    "# resnet_model.summary()"
   ]
  },
  {
   "cell_type": "code",
   "execution_count": 23,
   "metadata": {},
   "outputs": [],
   "source": [
    "def train_model(base_model, epochs_num = 10):\n",
    "    model = tf.keras.Sequential([\n",
    "        base_model,\n",
    "        tf.keras.layers.Flatten(),\n",
    "        tf.keras.layers.Dense(150, activation = 'relu'),\n",
    "        tf.keras.layers.Dense(1, activation = 'sigmoid')\n",
    "        ])\n",
    "    \n",
    "    model.compile(optimizer = tf.keras.optimizers.Adam(lr = 0.0001),\n",
    "                loss = tf.keras.losses.BinaryCrossentropy(from_logits=True),\n",
    "                metrics=['accuracy'])\n",
    "    \n",
    "    history = model.fit(train_data, validation_data = val_data, epochs = epochs_num)\n",
    "    \n",
    "    return (model, history)\n"
   ]
  },
  {
   "cell_type": "code",
   "execution_count": null,
   "metadata": {},
   "outputs": [],
   "source": [
    "model_vgg, history_vgg = train_model(vgg_model)\n",
    "model_rn, history_rn = train_model(resnet_model)"
   ]
  },
  {
   "cell_type": "code",
   "execution_count": null,
   "metadata": {},
   "outputs": [],
   "source": [
    "#Acc plots"
   ]
  },
  {
   "cell_type": "code",
   "execution_count": null,
   "metadata": {},
   "outputs": [],
   "source": [
    "# What have thay learnt? Grad-cam"
   ]
  }
 ],
 "metadata": {
  "kernelspec": {
   "display_name": "Python 3",
   "language": "python",
   "name": "python3"
  },
  "language_info": {
   "codemirror_mode": {
    "name": "ipython",
    "version": 3
   },
   "file_extension": ".py",
   "mimetype": "text/x-python",
   "name": "python",
   "nbconvert_exporter": "python",
   "pygments_lexer": "ipython3",
   "version": "3.6.9"
  }
 },
 "nbformat": 4,
 "nbformat_minor": 4
}
